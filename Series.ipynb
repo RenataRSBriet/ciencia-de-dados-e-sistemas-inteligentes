{
  "nbformat": 4,
  "nbformat_minor": 0,
  "metadata": {
    "colab": {
      "provenance": [],
      "authorship_tag": "ABX9TyOzOE6rUNuZQcb9Ps8unnQ/",
      "include_colab_link": true
    },
    "kernelspec": {
      "name": "python3",
      "display_name": "Python 3"
    },
    "language_info": {
      "name": "python"
    }
  },
  "cells": [
    {
      "cell_type": "markdown",
      "metadata": {
        "id": "view-in-github",
        "colab_type": "text"
      },
      "source": [
        "<a href=\"https://colab.research.google.com/github/RenataRSBriet/ci-ncia-de-dados-e-sistemas-inteligentes/blob/master/Series.ipynb\" target=\"_parent\"><img src=\"https://colab.research.google.com/assets/colab-badge.svg\" alt=\"Open In Colab\"/></a>"
      ]
    },
    {
      "cell_type": "code",
      "execution_count": 1,
      "metadata": {
        "id": "uMegMJi1dJoq"
      },
      "outputs": [],
      "source": [
        "import pandas as pd"
      ]
    },
    {
      "cell_type": "code",
      "source": [
        "# cria a Series notas\n",
        "grades = pd.Series([7.6, 5.0, 8.5, 9.5, 6.4])\n",
        "\n",
        "# cria a Series alunos\n",
        "lst_registration = ['M02', 'M05', 'M13', 'M14', 'M19']\n",
        "lst_names = ['Bob', 'Dayse', 'Bill', 'Cris', 'Jimi']\n",
        "students = pd.Series(lst_names, index = lst_registration)\n",
        "\n",
        "print(grades)\n",
        "print(\"--------------------\")\n",
        "print(students)"
      ],
      "metadata": {
        "colab": {
          "base_uri": "https://localhost:8080/"
        },
        "id": "02m6KxmAeOFR",
        "outputId": "b05189e9-5a7c-4ff4-ede0-be810c17bcfc"
      },
      "execution_count": 3,
      "outputs": [
        {
          "output_type": "stream",
          "name": "stdout",
          "text": [
            "0    7.6\n",
            "1    5.0\n",
            "2    8.5\n",
            "3    9.5\n",
            "4    6.4\n",
            "dtype: float64\n",
            "--------------------\n",
            "M02      Bob\n",
            "M05    Dayse\n",
            "M13     Bill\n",
            "M14     Cris\n",
            "M19     Jimi\n",
            "dtype: object\n"
          ]
        }
      ]
    },
    {
      "cell_type": "code",
      "source": [
        "# outra forma de criação de Series - a partir de um dicionário\n",
        "dic_students = {'M02':'Bob', 'M05':'Dayse', 'M13':'Bill', 'M14':'Cris', 'm19':'Jimi'}\n",
        "students2 = pd.Series(dic_students)\n",
        "print(students2)"
      ],
      "metadata": {
        "colab": {
          "base_uri": "https://localhost:8080/"
        },
        "id": "CHbToAMrgV6K",
        "outputId": "d5b6be57-33ef-4d94-93c1-a94b70454b37"
      },
      "execution_count": 4,
      "outputs": [
        {
          "output_type": "stream",
          "name": "stdout",
          "text": [
            "M02      Bob\n",
            "M05    Dayse\n",
            "M13     Bill\n",
            "M14     Cris\n",
            "m19     Jimi\n",
            "dtype: object\n"
          ]
        }
      ]
    },
    {
      "cell_type": "code",
      "source": [
        "# propriedades básicas das Series\n",
        "students = pd.Series({'M02':'Bob', 'M05':'Dayse', 'M13':'Bill', 'M14':'Cris', 'm19':'Jimi'})\n",
        "\n",
        "# atribui nomes para os vetores de dados e rótulos (índice)\n",
        "students.name = 'alunos'\n",
        "students.index.name = 'matriculas'\n",
        "\n",
        "print(students)\n",
        "\n",
        "size = students.size\n",
        "data = students.values\n",
        "labels = students.index\n",
        "students_type = type(students)\n",
        "students_dtype = students.dtype\n",
        "students_idx_dtype = students.index.dtype\n",
        "\n",
        "print('número de elementos: ', size)\n",
        "print('vetor de dados: ', data)\n",
        "print('vetor de rótulos: ', labels)\n",
        "print('tipo (type): ', students_dtype)\n",
        "print('dtype Series: ', students_dtype)\n",
        "print('dtype do vetor de dados: ', students_idx_dtype)"
      ],
      "metadata": {
        "colab": {
          "base_uri": "https://localhost:8080/"
        },
        "id": "2tttpKjXhWGS",
        "outputId": "2024600c-74b6-4f4d-efee-b047454533d8"
      },
      "execution_count": 7,
      "outputs": [
        {
          "output_type": "stream",
          "name": "stdout",
          "text": [
            "matriculas\n",
            "M02      Bob\n",
            "M05    Dayse\n",
            "M13     Bill\n",
            "M14     Cris\n",
            "m19     Jimi\n",
            "Name: alunos, dtype: object\n",
            "número de elementos:  5\n",
            "vetor de dados:  ['Bob' 'Dayse' 'Bill' 'Cris' 'Jimi']\n",
            "vetor de rótulos:  Index(['M02', 'M05', 'M13', 'M14', 'm19'], dtype='object', name='matriculas')\n",
            "tipo (type):  object\n",
            "dtype Series:  object\n",
            "dtype do vetor de dados:  object\n"
          ]
        }
      ]
    },
    {
      "cell_type": "code",
      "source": [
        "# indexação booleana\n",
        "\n",
        "# obtem os indices do alunos aprovados\n",
        "idx_approved = grades[grades >= 7].index\n",
        "\n",
        "# imprime os alunos reprovados\n",
        "print('relação de alunos aprovados')\n",
        "print('---------------------------')\n",
        "# print(students[idx_approved])\n",
        "print(students.iloc[idx_approved])\n"
      ],
      "metadata": {
        "colab": {
          "base_uri": "https://localhost:8080/"
        },
        "id": "QMzkYVbuklLN",
        "outputId": "9dfe8506-913a-44f1-d312-176598e691cb"
      },
      "execution_count": 10,
      "outputs": [
        {
          "output_type": "stream",
          "name": "stdout",
          "text": [
            "relação de alunos aprovados\n",
            "---------------------------\n",
            "matriculas\n",
            "M02     Bob\n",
            "M13    Bill\n",
            "M14    Cris\n",
            "Name: alunos, dtype: object\n"
          ]
        }
      ]
    },
    {
      "cell_type": "code",
      "source": [
        "# buscas em Series\n",
        "\n",
        "has_M13 = 'M13' in students\n",
        "has_M99 = 'M99' in students\n",
        "print('existe o rótulo \"M13\"? -> ', has_M13)\n",
        "print('existe o rótulo \"M99\"? -> ', has_M99)\n",
        "\n",
        "# testa se valor faz parte da Series\n",
        "has_bob = students.isin(['Bob'])\n",
        "print('existe o valor \"Bob\"? -> ', has_bob)\n",
        "\n",
        "has_teste = students.isin(['Cris'])\n",
        "print('existe o valor? -> ', has_teste)"
      ],
      "metadata": {
        "colab": {
          "base_uri": "https://localhost:8080/"
        },
        "id": "1ek2cfNQmLvF",
        "outputId": "f9401b13-a100-4917-f938-266a489e193f"
      },
      "execution_count": 15,
      "outputs": [
        {
          "output_type": "stream",
          "name": "stdout",
          "text": [
            "existe o rótulo \"M13\"? ->  True\n",
            "existe o rótulo \"M99\"? ->  False\n",
            "existe o valor \"Bob\"? ->  matriculas\n",
            "M02     True\n",
            "M05    False\n",
            "M13    False\n",
            "M14    False\n",
            "m19    False\n",
            "Name: alunos, dtype: bool\n",
            "existe o valor? ->  matriculas\n",
            "M02    False\n",
            "M05    False\n",
            "M13    False\n",
            "M14     True\n",
            "m19    False\n",
            "Name: alunos, dtype: bool\n"
          ]
        }
      ]
    },
    {
      "cell_type": "code",
      "source": [
        "# inserindo, alterando e removendo elementos de Series\n",
        "\n",
        "print('Series original')\n",
        "print(students)\n",
        "\n",
        "# insere o aluno de matricula M55, Rakesh\n",
        "students = pd.Series({'M02':'Bob', 'M05':'Dayse', 'M13':'Bill', 'M14':'Cris', 'M19':'Jimi'})\n",
        "students['M55'] = 'Rakesh'\n",
        "print(students)\n",
        "\n",
        "# alterar os nomes Bill, Cris e Jimi para Billy, Cristy e Jimi\n",
        "students['M13'] = 'Billy'\n",
        "students[['M14', 'M19']] = ['Cristy', 'Jimy']\n",
        "\n",
        "print(students)\n",
        "\n",
        "# remove o aluno de matricula M01 (Bob)\n",
        "students = students.drop('M02')\n",
        "\n",
        "print(students)"
      ],
      "metadata": {
        "colab": {
          "base_uri": "https://localhost:8080/"
        },
        "id": "ybBBMEKBnyDK",
        "outputId": "aa1fb618-abdc-4915-b12b-d4eccd8960ab"
      },
      "execution_count": 33,
      "outputs": [
        {
          "output_type": "stream",
          "name": "stdout",
          "text": [
            "Series original\n",
            "M02       Bob\n",
            "M05     Dayse\n",
            "M13     Billy\n",
            "M14      Cris\n",
            "m19      Jimi\n",
            "M55    Rakesh\n",
            "dtype: object\n",
            "M02       Bob\n",
            "M05     Dayse\n",
            "M13      Bill\n",
            "M14      Cris\n",
            "M19      Jimi\n",
            "M55    Rakesh\n",
            "dtype: object\n",
            "M02       Bob\n",
            "M05     Dayse\n",
            "M13     Billy\n",
            "M14    Cristy\n",
            "M19      Jimy\n",
            "M55    Rakesh\n",
            "dtype: object\n",
            "M05     Dayse\n",
            "M13     Billy\n",
            "M14    Cristy\n",
            "M19      Jimy\n",
            "M55    Rakesh\n",
            "dtype: object\n"
          ]
        }
      ]
    },
    {
      "cell_type": "code",
      "source": [
        "# mudando o indice da Series\n",
        "\n",
        "students = pd.Series({'M02':'Bob', 'M05':'Dayse', 'M13':'Bill', 'M14':'Cris', 'm19':'Jimi'})\n",
        "print(students)\n",
        "\n",
        "students.index = ['M91', 'M92', 'M93', 'M94', 'M95']\n",
        "print(students)"
      ],
      "metadata": {
        "colab": {
          "base_uri": "https://localhost:8080/"
        },
        "id": "_TX5ASfXrls1",
        "outputId": "9343d94e-d40a-4431-e036-0e28eb69384d"
      },
      "execution_count": 20,
      "outputs": [
        {
          "output_type": "stream",
          "name": "stdout",
          "text": [
            "M02      Bob\n",
            "M05    Dayse\n",
            "M13     Bill\n",
            "M14     Cris\n",
            "m19     Jimi\n",
            "dtype: object\n",
            "M91      Bob\n",
            "M92    Dayse\n",
            "M93     Bill\n",
            "M94     Cris\n",
            "M95     Jimi\n",
            "dtype: object\n"
          ]
        }
      ]
    },
    {
      "cell_type": "code",
      "source": [
        "# interação\n",
        "for student in students: print(student)\n",
        "\n",
        "for position in students.index: print(position)\n"
      ],
      "metadata": {
        "colab": {
          "base_uri": "https://localhost:8080/"
        },
        "id": "6Eomy0AQsRCM",
        "outputId": "f78fbe14-a9bf-4d52-d6c6-97a806402262"
      },
      "execution_count": 34,
      "outputs": [
        {
          "output_type": "stream",
          "name": "stdout",
          "text": [
            "Dayse\n",
            "Billy\n",
            "Cristy\n",
            "Jimy\n",
            "Rakesh\n",
            "M05\n",
            "M13\n",
            "M14\n",
            "M19\n",
            "M55\n"
          ]
        }
      ]
    },
    {
      "cell_type": "code",
      "source": [
        "# operações aritmetricas com computação vetorizada\n",
        "import pandas as pd\n",
        "import numpy as np\n",
        "\n",
        "# cria as Series s1 e s2\n",
        "s1 = pd.Series([2,4,6])\n",
        "s2 = pd.Series([1,2,5])\n",
        "\n",
        "print('s1: ')\n",
        "print(s1)\n",
        "print('s2: ')\n",
        "print(s2)\n",
        "\n",
        "print('s1 * s2')\n",
        "print(s1 * s2)\n",
        "\n",
        "print('s1 + s2')\n",
        "print(s1 + s2)\n",
        "\n",
        "print('raiz quadrada dos elementos de s1')\n",
        "print(np.sqrt(s1))"
      ],
      "metadata": {
        "colab": {
          "base_uri": "https://localhost:8080/"
        },
        "id": "-Ui-uGKEs5NR",
        "outputId": "faad551d-16ce-46d0-c371-d9f9ac65facf"
      },
      "execution_count": 28,
      "outputs": [
        {
          "output_type": "stream",
          "name": "stdout",
          "text": [
            "s1: \n",
            "0    2\n",
            "1    4\n",
            "2    6\n",
            "dtype: int64\n",
            "s2: \n",
            "0    1\n",
            "1    2\n",
            "2    5\n",
            "dtype: int64\n",
            "s1 * s2\n",
            "0     2\n",
            "1     8\n",
            "2    30\n",
            "dtype: int64\n",
            "s1 + s2\n",
            "0     3\n",
            "1     6\n",
            "2    11\n",
            "dtype: int64\n",
            "raiz quadrada dos elementos de s1\n",
            "0    1.414214\n",
            "1    2.000000\n",
            "2    2.449490\n",
            "dtype: float64\n"
          ]
        }
      ]
    },
    {
      "cell_type": "code",
      "source": [
        "# valor NaN (nulo)\n",
        "\n",
        "green = pd.Series({'BR':1,'FR':0,'IT':1,'UK':0})\n",
        "blue = pd.Series({'AR':1,'BR':1,'FR':1,'IT':0,'UK':1})\n",
        "total = green + blue\n",
        "print('soma')\n",
        "print(total)\n",
        "print('--------------------')\n",
        "print('isnull(total)')\n",
        "print(pd.isnull(total))"
      ],
      "metadata": {
        "colab": {
          "base_uri": "https://localhost:8080/"
        },
        "id": "_YSqT1q92UIq",
        "outputId": "75280c2a-698b-4f77-e189-4791340e5943"
      },
      "execution_count": 35,
      "outputs": [
        {
          "output_type": "stream",
          "name": "stdout",
          "text": [
            "soma\n",
            "AR    NaN\n",
            "BR    2.0\n",
            "FR    1.0\n",
            "IT    1.0\n",
            "UK    1.0\n",
            "dtype: float64\n",
            "--------------------\n",
            "isnull(total)\n",
            "AR     True\n",
            "BR    False\n",
            "FR    False\n",
            "IT    False\n",
            "UK    False\n",
            "dtype: bool\n"
          ]
        }
      ]
    },
    {
      "cell_type": "code",
      "source": [
        "# indices datetime\n",
        "\n",
        "# (1) - criar uma serie temporal\n",
        "days = ['10/02/2019', '11/02/2019', '12/02/2019', '13/02/2019','14/02/2019','15/02/2019']\n",
        "temp_max = [31,35,34,28,27,27]\n",
        "serie_temporal = pd.Series(temp_max, index=days)\n",
        "\n",
        "# (2) - converte o tipo do indice para datetime e imprime a serie\n",
        "serie_temporal.index = pd.to_datetime(serie_temporal.index,\n",
        "                                      format='%d/%m/%Y')\n",
        "print(serie_temporal)"
      ],
      "metadata": {
        "colab": {
          "base_uri": "https://localhost:8080/"
        },
        "id": "7z0dnky_4Zc8",
        "outputId": "fb018147-ce1b-4358-cff7-8b91374ff459"
      },
      "execution_count": 39,
      "outputs": [
        {
          "output_type": "stream",
          "name": "stdout",
          "text": [
            "2019-02-10    31\n",
            "2019-02-11    35\n",
            "2019-02-12    34\n",
            "2019-02-13    28\n",
            "2019-02-14    27\n",
            "2019-02-15    27\n",
            "dtype: int64\n"
          ]
        }
      ]
    },
    {
      "cell_type": "code",
      "source": [
        "# indexação hierarquica\n",
        "money = ['Peso','Real','Euro','Euro', 'Libra']\n",
        "countries = [['América','América','Europa','Europa','Europa'],\n",
        "             ['AR','BR','FR','IT','UK']]\n",
        "lst_countries = pd.Series(money, index=countries)\n",
        "print(lst_countries) # imprime toda a lista\n",
        "print('----------------------------')\n",
        "print(lst_countries['América']) # (AR: peso, BR: real)\n",
        "print('----------------------------')\n",
        "print(lst_countries[:,'IT']) # (europa: euro)\n",
        "print('----------------------------')\n",
        "print(lst_countries['Europa','IT']) # euro\n",
        ""
      ],
      "metadata": {
        "colab": {
          "base_uri": "https://localhost:8080/"
        },
        "id": "xj3T9PSs6_dq",
        "outputId": "a0070560-2102-4f14-8fe2-67519c5b66f1"
      },
      "execution_count": 43,
      "outputs": [
        {
          "output_type": "stream",
          "name": "stdout",
          "text": [
            "América  AR     Peso\n",
            "         BR     Real\n",
            "Europa   FR     Euro\n",
            "         IT     Euro\n",
            "         UK    Libra\n",
            "dtype: object\n",
            "----------------------------\n",
            "AR    Peso\n",
            "BR    Real\n",
            "dtype: object\n",
            "----------------------------\n",
            "Europa    Euro\n",
            "dtype: object\n",
            "----------------------------\n",
            "Euro\n"
          ]
        }
      ]
    }
  ]
}